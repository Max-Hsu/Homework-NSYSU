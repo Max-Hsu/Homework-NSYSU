{
 "cells": [
  {
   "cell_type": "code",
   "execution_count": 1,
   "metadata": {},
   "outputs": [],
   "source": [
    "%matplotlib inline\n",
    "import pandas as pd\n",
    "import numpy as np\n",
    "import matplotlib.pyplot as plt\n",
    "import sklearn.linear_model as skl\n",
    "import sklearn.metrics as skm\n",
    "import sklearn.preprocessing as skp\n",
    "import sklearn.svm as svm\n",
    "import sklearn.tree as svt\n",
    "import sklearn.ensemble as ske\n",
    "import seaborn as sns\n",
    "import xgboost\n",
    "csv = pd.read_csv('hr-analytics.csv') #requirement 1 reading the csv data"
   ]
  },
  {
   "cell_type": "code",
   "execution_count": 2,
   "metadata": {},
   "outputs": [],
   "source": [
    "csv_dummies = pd.get_dummies(csv)# requirement2 : one hot coding for non number type"
   ]
  },
  {
   "cell_type": "code",
   "execution_count": 3,
   "metadata": {},
   "outputs": [],
   "source": [
    "nul_dataframe = pd.isna(csv_dummies) # requirement3 : filling Nan with column average\n",
    "for series_null in nul_dataframe:\n",
    "    ser = nul_dataframe[series_null]\n",
    "    if(len(np.where(ser)[0])):       # find Nan\n",
    "        csv_dummies[str(series_null)].fillna(value=csv_dummies[str(series_null)].mean(),inplace=True) # fillna with average"
   ]
  },
  {
   "cell_type": "code",
   "execution_count": 4,
   "metadata": {},
   "outputs": [],
   "source": [
    "left = csv_dummies['left'] # extract left\n",
    "csv_dummies_heat = csv_dummies\n",
    "csv_dummies = csv_dummies.drop(columns=['left']) #drop left"
   ]
  },
  {
   "cell_type": "code",
   "execution_count": 5,
   "metadata": {},
   "outputs": [],
   "source": [
    "y_train , y_test = left[:round(len(left)*0.7)] , left[round(len(left)*0.7):]\n",
    "x_train , x_test = csv_dummies[:round(len(left)*0.7)] , csv_dummies[round(len(left)*0.7):]\n",
    "y_test = np.array(y_test) #splitting data set with ratio of 7:3 , for the first part of requirement4"
   ]
  },
  {
   "cell_type": "code",
   "execution_count": 6,
   "metadata": {},
   "outputs": [
    {
     "name": "stderr",
     "output_type": "stream",
     "text": [
      "/usr/local/lib/python3.6/dist-packages/sklearn/linear_model/_logistic.py:764: ConvergenceWarning: lbfgs failed to converge (status=1):\n",
      "STOP: TOTAL NO. of ITERATIONS REACHED LIMIT.\n",
      "\n",
      "Increase the number of iterations (max_iter) or scale the data as shown in:\n",
      "    https://scikit-learn.org/stable/modules/preprocessing.html\n",
      "Please also refer to the documentation for alternative solver options:\n",
      "    https://scikit-learn.org/stable/modules/linear_model.html#logistic-regression\n",
      "  extra_warning_msg=_LOGISTIC_SOLVER_CONVERGENCE_MSG)\n",
      "/usr/local/lib/python3.6/dist-packages/sklearn/svm/_base.py:977: ConvergenceWarning: Liblinear failed to converge, increase the number of iterations.\n",
      "  \"the number of iterations.\", ConvergenceWarning)\n"
     ]
    }
   ],
   "source": [
    "logistic_learn = skl.LogisticRegression().fit(x_train,y_train)\n",
    "SVM_learn = svm.LinearSVC().fit(x_train,y_train)\n",
    "DECISION_learn = svt.DecisionTreeClassifier().fit(x_train,y_train)"
   ]
  },
  {
   "cell_type": "code",
   "execution_count": 7,
   "metadata": {},
   "outputs": [
    {
     "name": "stdout",
     "output_type": "stream",
     "text": [
      "logistic score 0.5964444444444444\n",
      "SVM score 0.6286666666666667\n",
      "decision tree score 0.9762222222222222\n"
     ]
    }
   ],
   "source": [
    "logistic_y_predict = logistic_learn.predict(x_test)\n",
    "SVM_y_predict = SVM_learn.predict(x_test)\n",
    "DECISION_learn = DECISION_learn.predict(x_test)\n",
    "\n",
    "logistic_score = skm.accuracy_score(y_test,logistic_y_predict)\n",
    "SVM_score = skm.accuracy_score(y_test,SVM_y_predict)\n",
    "DECISION_score = skm.accuracy_score(y_test,DECISION_learn)\n",
    "\n",
    "print(\"logistic score\",logistic_score)\n",
    "print(\"SVM score\",SVM_score) #requirement 5\n",
    "print(\"decision tree score\",DECISION_score)"
   ]
  },
  {
   "cell_type": "markdown",
   "metadata": {},
   "source": [
    "# Discussion : Decision Tree , SVM , logistic , which is better on this 'left' prediction?\n",
    "\n",
    "According to the accuracy score of three model , the best is Decision tree , in which is based on seperate the data group multiple times (in order to fit train set), and SVM and logistic can only seperate once , so the accuracy of decision tree is much higher than svm , and logistic model"
   ]
  },
  {
   "cell_type": "markdown",
   "metadata": {},
   "source": [
    "---"
   ]
  },
  {
   "cell_type": "code",
   "execution_count": 8,
   "metadata": {},
   "outputs": [],
   "source": [
    "csv = pd.read_csv('titanic_train.csv')"
   ]
  },
  {
   "cell_type": "code",
   "execution_count": 9,
   "metadata": {},
   "outputs": [],
   "source": [
    "csv_dummies = pd.get_dummies(csv)"
   ]
  },
  {
   "cell_type": "code",
   "execution_count": 10,
   "metadata": {},
   "outputs": [],
   "source": [
    "nul_dataframe = pd.isna(csv_dummies) # requirement3 : filling Nan with column average\n",
    "for series_null in nul_dataframe:\n",
    "    ser = nul_dataframe[series_null]\n",
    "    if(len(np.where(ser)[0])):       # find Nan\n",
    "        csv_dummies[str(series_null)].fillna(value=csv_dummies[str(series_null)].mean(),inplace=True) # fillna with average"
   ]
  },
  {
   "cell_type": "code",
   "execution_count": 11,
   "metadata": {},
   "outputs": [
    {
     "name": "stdout",
     "output_type": "stream",
     "text": [
      "                                 pclass  survived       age     sibsp  \\\n",
      "pclass                         1.000000 -0.302535 -0.376242  0.069850   \n",
      "survived                      -0.302535  1.000000 -0.041581 -0.027794   \n",
      "age                           -0.376242 -0.041581  1.000000 -0.218751   \n",
      "sibsp                          0.069850 -0.027794 -0.218751  1.000000   \n",
      "parch                          0.030800  0.058768 -0.127181  0.372701   \n",
      "...                                 ...       ...       ...       ...   \n",
      "home.dest_Woodford County, KY -0.010767  0.043652  0.050459 -0.016053   \n",
      "home.dest_Worcester, England  -0.010767  0.043652 -0.029574 -0.016053   \n",
      "home.dest_Worcester, MA       -0.010767 -0.026271 -0.008921 -0.016053   \n",
      "home.dest_Youngstown, OH      -0.050766  0.043652  0.001406 -0.016053   \n",
      "home.dest_Zurich, Switzerland -0.071836  0.061769  0.086013  0.023509   \n",
      "\n",
      "                                  parch      fare          body  \\\n",
      "pclass                         0.030800 -0.560317  6.816244e-03   \n",
      "survived                       0.058768  0.253278 -1.631437e-16   \n",
      "age                           -0.127181  0.136586  1.264078e-02   \n",
      "sibsp                          0.372701  0.172408 -3.954616e-02   \n",
      "parch                          1.000000  0.227293  7.660833e-03   \n",
      "...                                 ...       ...           ...   \n",
      "home.dest_Woodford County, KY  0.023774 -0.004820  3.965237e-18   \n",
      "home.dest_Worcester, England  -0.014448 -0.004820  3.965237e-18   \n",
      "home.dest_Worcester, MA       -0.014448 -0.013612  3.965237e-18   \n",
      "home.dest_Youngstown, OH       0.061997  0.089102  3.965237e-18   \n",
      "home.dest_Zurich, Switzerland  0.033641  0.044095  5.610910e-18   \n",
      "\n",
      "                               name_Abbott, Master. Eugene Joseph  \\\n",
      "pclass                                                   0.029232   \n",
      "survived                                                -0.026271   \n",
      "age                                                     -0.045065   \n",
      "sibsp                                                   -0.016053   \n",
      "parch                                                    0.061997   \n",
      "...                                                           ...   \n",
      "home.dest_Woodford County, KY                           -0.001147   \n",
      "home.dest_Worcester, England                            -0.001147   \n",
      "home.dest_Worcester, MA                                 -0.001147   \n",
      "home.dest_Youngstown, OH                                -0.001147   \n",
      "home.dest_Zurich, Switzerland                           -0.001623   \n",
      "\n",
      "                               name_Abbott, Mr. Rossmore Edward  \\\n",
      "pclass                                                 0.029232   \n",
      "survived                                              -0.026271   \n",
      "age                                                   -0.037320   \n",
      "sibsp                                                  0.016614   \n",
      "parch                                                  0.023774   \n",
      "...                                                         ...   \n",
      "home.dest_Woodford County, KY                         -0.001147   \n",
      "home.dest_Worcester, England                          -0.001147   \n",
      "home.dest_Worcester, MA                               -0.001147   \n",
      "home.dest_Youngstown, OH                              -0.001147   \n",
      "home.dest_Zurich, Switzerland                         -0.001623   \n",
      "\n",
      "                               name_Abelseth, Miss. Karen Marie  ...  \\\n",
      "pclass                                                 0.029232  ...   \n",
      "survived                                               0.043652  ...   \n",
      "age                                                   -0.037320  ...   \n",
      "sibsp                                                 -0.016053  ...   \n",
      "parch                                                 -0.014448  ...   \n",
      "...                                                         ...  ...   \n",
      "home.dest_Woodford County, KY                         -0.001147  ...   \n",
      "home.dest_Worcester, England                          -0.001147  ...   \n",
      "home.dest_Worcester, MA                               -0.001147  ...   \n",
      "home.dest_Youngstown, OH                              -0.001147  ...   \n",
      "home.dest_Zurich, Switzerland                         -0.001623  ...   \n",
      "\n",
      "                               home.dest_Weston-Super-Mare, Somerset  \\\n",
      "pclass                                                     -0.015236   \n",
      "survived                                                    0.012297   \n",
      "age                                                         0.056787   \n",
      "sibsp                                                       0.023509   \n",
      "parch                                                      -0.020445   \n",
      "...                                                              ...   \n",
      "home.dest_Woodford County, KY                              -0.001623   \n",
      "home.dest_Worcester, England                               -0.001623   \n",
      "home.dest_Worcester, MA                                    -0.001623   \n",
      "home.dest_Youngstown, OH                                   -0.001623   \n",
      "home.dest_Zurich, Switzerland                              -0.002296   \n",
      "\n",
      "                               home.dest_Wiltshire, England Niagara Falls, NY  \\\n",
      "pclass                                                               0.077608   \n",
      "survived                                                            -0.069748   \n",
      "age                                                                 -0.076559   \n",
      "sibsp                                                                0.291899   \n",
      "parch                                                                0.280570   \n",
      "...                                                                       ...   \n",
      "home.dest_Woodford County, KY                                       -0.003045   \n",
      "home.dest_Worcester, England                                        -0.003045   \n",
      "home.dest_Worcester, MA                                             -0.003045   \n",
      "home.dest_Youngstown, OH                                            -0.003045   \n",
      "home.dest_Zurich, Switzerland                                       -0.004308   \n",
      "\n",
      "                               home.dest_Wimbledon Park, London / Hayling Island, Hants  \\\n",
      "pclass                                                                 -0.050766          \n",
      "survived                                                               -0.026271          \n",
      "age                                                                     0.081439          \n",
      "sibsp                                                                  -0.016053          \n",
      "parch                                                                  -0.014448          \n",
      "...                                                                          ...          \n",
      "home.dest_Woodford County, KY                                          -0.001147          \n",
      "home.dest_Worcester, England                                           -0.001147          \n",
      "home.dest_Worcester, MA                                                -0.001147          \n",
      "home.dest_Youngstown, OH                                               -0.001147          \n",
      "home.dest_Zurich, Switzerland                                          -0.001623          \n",
      "\n",
      "                               home.dest_Winnipeg, MB  home.dest_Winnipeg, MN  \\\n",
      "pclass                                      -0.101708               -0.050766   \n",
      "survived                                     0.052432               -0.026271   \n",
      "age                                          0.010576                0.014315   \n",
      "sibsp                                        0.131454               -0.016053   \n",
      "parch                                        0.162497               -0.014448   \n",
      "...                                               ...                     ...   \n",
      "home.dest_Woodford County, KY               -0.002298               -0.001147   \n",
      "home.dest_Worcester, England                -0.002298               -0.001147   \n",
      "home.dest_Worcester, MA                     -0.002298               -0.001147   \n",
      "home.dest_Youngstown, OH                    -0.002298               -0.001147   \n",
      "home.dest_Zurich, Switzerland               -0.003251               -0.001623   \n",
      "\n",
      "                               home.dest_Woodford County, KY  \\\n",
      "pclass                                             -0.010767   \n",
      "survived                                            0.043652   \n",
      "age                                                 0.050459   \n",
      "sibsp                                              -0.016053   \n",
      "parch                                               0.023774   \n",
      "...                                                      ...   \n",
      "home.dest_Woodford County, KY                       1.000000   \n",
      "home.dest_Worcester, England                       -0.001147   \n",
      "home.dest_Worcester, MA                            -0.001147   \n",
      "home.dest_Youngstown, OH                           -0.001147   \n",
      "home.dest_Zurich, Switzerland                      -0.001623   \n",
      "\n",
      "                               home.dest_Worcester, England  \\\n",
      "pclass                                            -0.010767   \n",
      "survived                                           0.043652   \n",
      "age                                               -0.029574   \n",
      "sibsp                                             -0.016053   \n",
      "parch                                             -0.014448   \n",
      "...                                                     ...   \n",
      "home.dest_Woodford County, KY                     -0.001147   \n",
      "home.dest_Worcester, England                       1.000000   \n",
      "home.dest_Worcester, MA                           -0.001147   \n",
      "home.dest_Youngstown, OH                          -0.001147   \n",
      "home.dest_Zurich, Switzerland                     -0.001623   \n",
      "\n",
      "                               home.dest_Worcester, MA  \\\n",
      "pclass                                       -0.010767   \n",
      "survived                                     -0.026271   \n",
      "age                                          -0.008921   \n",
      "sibsp                                        -0.016053   \n",
      "parch                                        -0.014448   \n",
      "...                                                ...   \n",
      "home.dest_Woodford County, KY                -0.001147   \n",
      "home.dest_Worcester, England                 -0.001147   \n",
      "home.dest_Worcester, MA                       1.000000   \n",
      "home.dest_Youngstown, OH                     -0.001147   \n",
      "home.dest_Zurich, Switzerland                -0.001623   \n",
      "\n",
      "                               home.dest_Youngstown, OH  \\\n",
      "pclass                                        -0.050766   \n",
      "survived                                       0.043652   \n",
      "age                                            0.001406   \n",
      "sibsp                                         -0.016053   \n",
      "parch                                          0.061997   \n",
      "...                                                 ...   \n",
      "home.dest_Woodford County, KY                 -0.001147   \n",
      "home.dest_Worcester, England                  -0.001147   \n",
      "home.dest_Worcester, MA                       -0.001147   \n",
      "home.dest_Youngstown, OH                       1.000000   \n",
      "home.dest_Zurich, Switzerland                 -0.001623   \n",
      "\n",
      "                               home.dest_Zurich, Switzerland  \n",
      "pclass                                             -0.071836  \n",
      "survived                                            0.061769  \n",
      "age                                                 0.086013  \n",
      "sibsp                                               0.023509  \n",
      "parch                                               0.033641  \n",
      "...                                                      ...  \n",
      "home.dest_Woodford County, KY                      -0.001623  \n",
      "home.dest_Worcester, England                       -0.001623  \n",
      "home.dest_Worcester, MA                            -0.001623  \n",
      "home.dest_Youngstown, OH                           -0.001623  \n",
      "home.dest_Zurich, Switzerland                       1.000000  \n",
      "\n",
      "[2040 rows x 2040 columns]\n"
     ]
    }
   ],
   "source": [
    "survived = csv_dummies['survived']\n",
    "csv_dummies_heat = csv_dummies\n",
    "csv_dummies = csv_dummies.drop(columns=['survived'])\n",
    "\n",
    "corr_matrix = csv_dummies_heat.corr() # for requirement 6 i extract the correlation matrix , to see whether it is correlated\n",
    "#sns.heatmap(corr_matrix,annot = True, annot_kws={\"size\": 2})\n",
    "print(corr_matrix)"
   ]
  },
  {
   "cell_type": "code",
   "execution_count": 12,
   "metadata": {},
   "outputs": [],
   "source": [
    "y_train , y_test = survived[:round(len(survived)*0.7)] , survived[round(len(survived)*0.7):]\n",
    "x_train , x_test = csv_dummies[:round(len(survived)*0.7)] , csv_dummies[round(len(survived)*0.7):]\n",
    "y_test = np.array(y_test) #splitting data set with ratio of 7:3 , for the first part of requirement4"
   ]
  },
  {
   "cell_type": "code",
   "execution_count": 13,
   "metadata": {},
   "outputs": [
    {
     "name": "stderr",
     "output_type": "stream",
     "text": [
      "/usr/local/lib/python3.6/dist-packages/sklearn/svm/_base.py:977: ConvergenceWarning: Liblinear failed to converge, increase the number of iterations.\n",
      "  \"the number of iterations.\", ConvergenceWarning)\n"
     ]
    },
    {
     "name": "stdout",
     "output_type": "stream",
     "text": [
      "0.7464114832535885\n",
      "0.7464114832535885\n",
      "0.8730964467005077\n"
     ]
    }
   ],
   "source": [
    "SVM_learn = svm.LinearSVC().fit(x_train,y_train)\n",
    "RAND_FOREST_learn = ske.RandomForestClassifier().fit(x_train,y_train)\n",
    "XGBOOST_learn = xgboost.XGBClassifier().fit(x_train,y_train)\n",
    "\n",
    "SVM_y_predict = SVM_learn.predict(x_test)\n",
    "RAND_FOREST_y_predict = RAND_FOREST_learn.predict(x_test)\n",
    "XGBOOST_y_predict = XGBOOST_learn.predict(x_test)\n",
    "\n",
    "SVM_score = skm.f1_score(y_test,SVM_y_predict)\n",
    "RAND_FOREST_score = skm.f1_score(y_test,SVM_y_predict)\n",
    "XGBOOST_score = skm.f1_score(y_test,XGBOOST_y_predict)\n",
    "\n",
    "print(SVM_score)\n",
    "print(RAND_FOREST_score)\n",
    "print(XGBOOST_score)"
   ]
  },
  {
   "cell_type": "code",
   "execution_count": 14,
   "metadata": {},
   "outputs": [
    {
     "data": {
      "text/plain": [
       "Text(0.5, 1.0, 'XGBoost confusion matrix')"
      ]
     },
     "execution_count": 14,
     "metadata": {},
     "output_type": "execute_result"
    },
    {
     "data": {
      "text/plain": [
       "<Figure size 432x288 with 0 Axes>"
      ]
     },
     "metadata": {},
     "output_type": "display_data"
    },
    {
     "data": {
      "image/png": "[encoded data removed]",
      "text/plain": [
       "<Figure size 432x288 with 3 Axes>"
      ]
     },
     "metadata": {
      "needs_background": "light"
     },
     "output_type": "display_data"
    },
    {
     "data": {
      "image/png": "[encoded data removed]",
      "text/plain": [
       "<Figure size 432x288 with 2 Axes>"
      ]
     },
     "metadata": {
      "needs_background": "light"
     },
     "output_type": "display_data"
    },
    {
     "data": {
      "image/png": "[encoded data removed]",
      "text/plain": [
       "<Figure size 432x288 with 2 Axes>"
      ]
     },
     "metadata": {
      "needs_background": "light"
     },
     "output_type": "display_data"
    },
    {
     "data": {
      "image/png": "[encoded data removed]",
      "text/plain": [
       "<Figure size 432x288 with 2 Axes>"
      ]
     },
     "metadata": {
      "needs_background": "light"
     },
     "output_type": "display_data"
    }
   ],
   "source": [
    "plt.figure()\n",
    "_,plot = plt.subplots(1,3)\n",
    "plot[0] = skm.plot_confusion_matrix(SVM_learn,x_test,y_test)\n",
    "plot[0].ax_.set_title('LinearSVC confusion matrix')\n",
    "plot[1] = skm.plot_confusion_matrix(RAND_FOREST_learn,x_test,y_test)\n",
    "plot[1].ax_.set_title('RandomForest confusion matrix')\n",
    "plot[2] = skm.plot_confusion_matrix(XGBOOST_learn,x_test,y_test)\n",
    "plot[2].ax_.set_title('XGBoost confusion matrix')"
   ]
  },
  {
   "cell_type": "markdown",
   "metadata": {},
   "source": [
    "---\n",
    "# Now I am trying on my method"
   ]
  },
  {
   "cell_type": "code",
   "execution_count": 15,
   "metadata": {},
   "outputs": [],
   "source": [
    "csv = pd.read_csv('titanic_train.csv')"
   ]
  },
  {
   "cell_type": "markdown",
   "metadata": {},
   "source": [
    "# analyse on the data\n",
    "\n",
    "pclass : higher class might have more chance to access the life boat , thus survive\n",
    "\n",
    "name : junk (but need to connect back again)\n",
    "\n",
    "sex : maybe man has more stamina to bear the cold water\n",
    "\n",
    "age : same thought as sex\n",
    "\n",
    "sibsp : ugh , maybe they will group up to same themselves\n",
    "\n",
    "parch : same thought as sibsp\n",
    "\n",
    "ticket: junk\n",
    "\n",
    "fare : relating to higher class.\n",
    "\n",
    "cabin: if the cabin is more closer to the deck , it still has more chance , but this data is missing a lot ,(considering to be junk)\n",
    "\n",
    "embarked : junk\n",
    "\n",
    "boat : if the person gets on the life boat , he/she has more chance\n",
    "\n",
    "body : if the body was found , it is obvious the person is dead\n",
    "\n",
    "home.dest : maybe colder country has more chance? but the data has too many classes , so junk it is."
   ]
  },
  {
   "cell_type": "code",
   "execution_count": 16,
   "metadata": {},
   "outputs": [
    {
     "name": "stdout",
     "output_type": "stream",
     "text": [
      "     pclass  survived     sex   age  sibsp  parch     fare boat  body\n",
      "0         3         1  female   NaN      1      0  15.5000   16   NaN\n",
      "1         3         0    male  25.0      0      0   7.7417  NaN   NaN\n",
      "2         3         1    male  21.0      0      0   7.8208   13   NaN\n",
      "3         1         0    male  46.0      0      0  79.2000  NaN   NaN\n",
      "4         3         1  female  18.0      0      0   7.4958   16   NaN\n",
      "..      ...       ...     ...   ...    ...    ...      ...  ...   ...\n",
      "868       2         1  female  48.0      1      2  65.0000    9   NaN\n",
      "869       3         0  female   NaN      0      2   7.7500  NaN   NaN\n",
      "870       3         0    male  39.0      0      0   7.9250  NaN   NaN\n",
      "871       1         0    male  28.0      0      0  47.1000  NaN   NaN\n",
      "872       3         0    male   2.0      4      1  39.6875  NaN   NaN\n",
      "\n",
      "[873 rows x 9 columns]\n"
     ]
    }
   ],
   "source": [
    "#in here i think we need to throw some useless data\n",
    "csv = csv.drop(columns=['name','ticket','embarked','home.dest','cabin'])\n",
    "print(csv)\n",
    "\n",
    "\n"
   ]
  },
  {
   "cell_type": "code",
   "execution_count": 17,
   "metadata": {},
   "outputs": [],
   "source": [
    "csv['boatx'] = csv['boat'].apply(lambda x: 1 if not pd.isnull(x) else 0)\n",
    "csv['bodyx'] = csv['body'].apply(lambda x: 1 if not pd.isnull(x) else 0)\n",
    "csv = csv.drop(columns=['boat','body'])\n",
    "csv = csv.replace({'sex': {'female': 0, 'male': 1}})\n",
    "csv_dummies = pd.get_dummies(csv)"
   ]
  },
  {
   "cell_type": "code",
   "execution_count": 18,
   "metadata": {},
   "outputs": [],
   "source": [
    "nul_dataframe = pd.isna(csv_dummies) # requirement3 : filling Nan with column average\n",
    "for series_null in nul_dataframe:\n",
    "    ser = nul_dataframe[series_null]\n",
    "    if(len(np.where(ser)[0])):       # find Nan\n",
    "        csv_dummies[str(series_null)].fillna(value=csv_dummies[str(series_null)].mean(),inplace=True) # fillna with average"
   ]
  },
  {
   "cell_type": "code",
   "execution_count": 19,
   "metadata": {},
   "outputs": [
    {
     "name": "stdout",
     "output_type": "stream",
     "text": [
      "            pclass  survived       sex       age     sibsp     parch  \\\n",
      "pclass    1.000000 -0.302535  0.126491 -0.376242  0.069850  0.030800   \n",
      "survived -0.302535  1.000000 -0.538211 -0.041581 -0.027794  0.058768   \n",
      "sex       0.126491 -0.538211  1.000000  0.049495 -0.083626 -0.186702   \n",
      "age      -0.376242 -0.041581  0.049495  1.000000 -0.218751 -0.127181   \n",
      "sibsp     0.069850 -0.027794 -0.083626 -0.218751  1.000000  0.372701   \n",
      "parch     0.030800  0.058768 -0.186702 -0.127181  0.372701  1.000000   \n",
      "fare     -0.560317  0.253278 -0.205310  0.136586  0.172408  0.227293   \n",
      "boatx    -0.316044  0.953642 -0.496473 -0.043756 -0.024762  0.067675   \n",
      "bodyx    -0.069907 -0.249780  0.204233  0.159435 -0.027633 -0.022144   \n",
      "\n",
      "              fare     boatx     bodyx  \n",
      "pclass   -0.560317 -0.316044 -0.069907  \n",
      "survived  0.253278  0.953642 -0.249780  \n",
      "sex      -0.205310 -0.496473  0.204233  \n",
      "age       0.136586 -0.043756  0.159435  \n",
      "sibsp     0.172408 -0.024762 -0.027633  \n",
      "parch     0.227293  0.067675 -0.022144  \n",
      "fare      1.000000  0.262559 -0.012250  \n",
      "boatx     0.262559  1.000000 -0.243115  \n",
      "bodyx    -0.012250 -0.243115  1.000000  \n"
     ]
    }
   ],
   "source": [
    "survived = csv_dummies['survived']\n",
    "csv_dummies_heat = csv_dummies\n",
    "csv_dummies = csv_dummies.drop(columns=['survived'])\n",
    "\n",
    "corr_matrix = csv_dummies_heat.corr() # for requirement 6 i extract the correlation matrix , to see whether it is correlated\n",
    "#sns.heatmap(corr_matrix,annot = True, annot_kws={\"size\": 2})\n",
    "print(corr_matrix)"
   ]
  },
  {
   "cell_type": "code",
   "execution_count": 20,
   "metadata": {},
   "outputs": [],
   "source": [
    "y_train , y_test = survived[:round(len(survived)*0.7)] , survived[round(len(survived)*0.7):]\n",
    "x_train , x_test = csv_dummies[:round(len(survived)*0.7)] , csv_dummies[round(len(survived)*0.7):]\n",
    "y_test = np.array(y_test) #splitting data set with ratio of 7:3 , for the first part of requirement4"
   ]
  },
  {
   "cell_type": "code",
   "execution_count": 21,
   "metadata": {},
   "outputs": [
    {
     "name": "stdout",
     "output_type": "stream",
     "text": [
      "0.9615384615384616\n",
      "0.9615384615384616\n",
      "0.9607843137254903\n"
     ]
    },
    {
     "name": "stderr",
     "output_type": "stream",
     "text": [
      "/usr/local/lib/python3.6/dist-packages/sklearn/svm/_base.py:977: ConvergenceWarning: Liblinear failed to converge, increase the number of iterations.\n",
      "  \"the number of iterations.\", ConvergenceWarning)\n"
     ]
    }
   ],
   "source": [
    "SVM_learn = svm.LinearSVC().fit(x_train,y_train)\n",
    "RAND_FOREST_learn = ske.RandomForestClassifier().fit(x_train,y_train)\n",
    "XGBOOST_learn = xgboost.XGBClassifier().fit(x_train,y_train)\n",
    "\n",
    "SVM_y_predict = SVM_learn.predict(x_test)\n",
    "RAND_FOREST_y_predict = RAND_FOREST_learn.predict(x_test)\n",
    "XGBOOST_y_predict = XGBOOST_learn.predict(x_test)\n",
    "\n",
    "SVM_score = skm.f1_score(y_test,SVM_y_predict)\n",
    "RAND_FOREST_score = skm.f1_score(y_test,SVM_y_predict)\n",
    "XGBOOST_score = skm.f1_score(y_test,XGBOOST_y_predict)\n",
    "\n",
    "print(SVM_score)\n",
    "print(RAND_FOREST_score)\n",
    "print(XGBOOST_score)"
   ]
  },
  {
   "cell_type": "code",
   "execution_count": 22,
   "metadata": {},
   "outputs": [
    {
     "data": {
      "text/plain": [
       "Text(0.5, 1.0, 'XGBoost confusion matrix')"
      ]
     },
     "execution_count": 22,
     "metadata": {},
     "output_type": "execute_result"
    },
    {
     "data": {
      "text/plain": [
       "<Figure size 432x288 with 0 Axes>"
      ]
     },
     "metadata": {},
     "output_type": "display_data"
    },
    {
     "data": {
      "image/png": "[encoded data removed]",
      "text/plain": [
       "<Figure size 432x288 with 3 Axes>"
      ]
     },
     "metadata": {
      "needs_background": "light"
     },
     "output_type": "display_data"
    },
    {
     "data": {
      "image/png": "[encoded data removed]",
      "text/plain": [
       "<Figure size 432x288 with 2 Axes>"
      ]
     },
     "metadata": {
      "needs_background": "light"
     },
     "output_type": "display_data"
    },
    {
     "data": {
      "image/png": "[encoded data removed]",
      "text/plain": [
       "<Figure size 432x288 with 2 Axes>"
      ]
     },
     "metadata": {
      "needs_background": "light"
     },
     "output_type": "display_data"
    },
    {
     "data": {
      "image/png": "[encoded data removed]",
      "text/plain": [
       "<Figure size 432x288 with 2 Axes>"
      ]
     },
     "metadata": {
      "needs_background": "light"
     },
     "output_type": "display_data"
    }
   ],
   "source": [
    "plt.figure()\n",
    "_,plot = plt.subplots(1,3)\n",
    "plot[0] = skm.plot_confusion_matrix(SVM_learn,x_test,y_test)\n",
    "plot[0].ax_.set_title('LinearSVC confusion matrix')\n",
    "plot[1] = skm.plot_confusion_matrix(RAND_FOREST_learn,x_test,y_test)\n",
    "plot[1].ax_.set_title('RandomForest confusion matrix')\n",
    "plot[2] = skm.plot_confusion_matrix(XGBOOST_learn,x_test,y_test)\n",
    "plot[2].ax_.set_title('XGBoost confusion matrix')"
   ]
  }
 ],
 "metadata": {
  "kernelspec": {
   "display_name": "Python 3",
   "language": "python",
   "name": "python3"
  },
  "language_info": {
   "codemirror_mode": {
    "name": "ipython",
    "version": 3
   },
   "file_extension": ".py",
   "mimetype": "text/x-python",
   "name": "python",
   "nbconvert_exporter": "python",
   "pygments_lexer": "ipython3",
   "version": "3.6.9"
  }
 },
 "nbformat": 4,
 "nbformat_minor": 4
}
