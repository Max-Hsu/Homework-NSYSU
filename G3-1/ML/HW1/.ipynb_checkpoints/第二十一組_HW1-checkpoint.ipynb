{
 "cells": [
  {
   "cell_type": "code",
   "execution_count": 1,
   "metadata": {},
   "outputs": [],
   "source": [
    "%matplotlib inline\n",
    "\n",
    "import matplotlib.pyplot as plt\n",
    "import numpy as np\n",
    "\n",
    "argument_list_float = []\n",
    "coordinates_list_float = []\n",
    "x_up = []\n",
    "y_up = []\n",
    "x_down = []\n",
    "y_down = []\n",
    "x_on = []\n",
    "y_on = []\n",
    "\n",
    "Learning_Rate = 0.0003"
   ]
  },
  {
   "cell_type": "code",
   "execution_count": 2,
   "metadata": {
    "tags": []
   },
   "outputs": [
    {
     "name": "stdout",
     "output_type": "stream",
     "text": [
      "Hi , please enter '4' value for the formula : aX^3+bX^2+cX+d(seperate by ,)\n",
      "1,2,8,41\n",
      "all argument is good\n"
     ]
    }
   ],
   "source": [
    "argument_ok = False\n",
    "while argument_ok == False:\n",
    "    input_string = input(\"Hi , please enter '4' value for the formula : aX^3+bX^2+cX+d(seperate by ,)\\n\")\n",
    "    argument_list = input_string.split(',')\n",
    "    if(len(argument_list)!=4):\n",
    "        print(\"you only enter {} arguments , please refill\\n\".format(len(argument_list)))\n",
    "        continue\n",
    "    for symbol,number in enumerate(argument_list):\n",
    "        try:\n",
    "            argument_list_float.append(float(number))\n",
    "        except ValueError:\n",
    "            print(\"argument \",chr(ord('a')+symbol) ,\": '{}'\".format(number), \"can not convert to number\",\"please refill the argument again\\n\")\n",
    "            argument_list_float.clear()\n",
    "            break\n",
    "    if(len(argument_list_float)==4):\n",
    "        argument_ok = True\n",
    "   \n",
    "print(\"all argument is good\")"
   ]
  },
  {
   "cell_type": "code",
   "execution_count": 3,
   "metadata": {
    "tags": []
   },
   "outputs": [
    {
     "name": "stdout",
     "output_type": "stream",
     "text": [
      "Input the coordinates of five points\n",
      "1,2,3,4,5,6,7,8,9,10\n"
     ]
    }
   ],
   "source": [
    "argument_ok = False\n",
    "while argument_ok == False:\n",
    "    input_string = input(\"Input the coordinates of five points\\n\")\n",
    "    argument_list = input_string.split(',')\n",
    "    if(len(argument_list)!=10):\n",
    "        print(\"you enter {} coordinates , please refill\".format(len(argument_list)))\n",
    "        if(len(argument_list)%2==1):\n",
    "            print(\"and you only input odd number of coordinates\\n\")\n",
    "        continue\n",
    "    for symbol,number in enumerate(argument_list):\n",
    "        try:\n",
    "            coordinates_list_float.append(float(number))\n",
    "        except ValueError:\n",
    "            print(\"coordinates number\",symbol+1 ,\": '{}'\".format(number), \"can not convert to number\",\"please refill the argument again\\n\")\n",
    "            coordinates_list_float.clear()\n",
    "            break\n",
    "    if(len(coordinates_list_float)==10):\n",
    "        argument_ok = True\n"
   ]
  },
  {
   "cell_type": "code",
   "execution_count": 4,
   "metadata": {},
   "outputs": [],
   "source": [
    "for index in range(0,10,2):\n",
    "    cX = coordinates_list_float[index]\n",
    "    cY = coordinates_list_float[index+1]\n",
    "    Line_Y = argument_list_float[0]*cX**3+argument_list_float[1]*cX**2+argument_list_float[2]*cX+argument_list_float[3]\n",
    "    if Line_Y > cY:\n",
    "        x_down.append(cX)\n",
    "        y_down.append(cY)\n",
    "    elif Line_Y == cY:\n",
    "        x_on.append(cX)\n",
    "        y_on.append(cY)\n",
    "    elif Line_Y < cY:\n",
    "        x_up.append(cX)\n",
    "        y_up.append(cY)\n"
   ]
  },
  {
   "cell_type": "code",
   "execution_count": 5,
   "metadata": {},
   "outputs": [],
   "source": [
    "start_x = 5\n",
    "for num in range(1000):\n",
    "    start_x = start_x - Learning_Rate*(3*argument_list_float[0]*cX**2+2*argument_list_float[1]*cX+argument_list_float[2])\n",
    "    #print(start_x)\n",
    "if start_x<0:\n",
    "    Min_x = 0\n",
    "elif start_x>10:\n",
    "    Min_x = 10\n",
    "else:\n",
    "    Min_x = start_x"
   ]
  },
  {
   "cell_type": "code",
   "execution_count": 6,
   "metadata": {},
   "outputs": [],
   "source": [
    "start_x = 5\n",
    "for num in range(1000):\n",
    "    start_x = start_x + Learning_Rate*(3*argument_list_float[0]*cX**2+2*argument_list_float[1]*cX+argument_list_float[2])\n",
    "    #print(start_x)\n",
    "if start_x<0:\n",
    "    Max_x = 0\n",
    "elif start_x>10:\n",
    "    Max_x = 10\n",
    "else:\n",
    "    Max_x = start_x"
   ]
  },
  {
   "cell_type": "code",
   "execution_count": 7,
   "metadata": {
    "tags": []
   },
   "outputs": [
    {
     "name": "stdout",
     "output_type": "stream",
     "text": [
      "0 41.0\n",
      "10 1321.0\n"
     ]
    }
   ],
   "source": [
    "Min_y = argument_list_float[0]*Min_x**3+argument_list_float[1]*Min_x**2+argument_list_float[2]*Min_x+argument_list_float[3]\n",
    "Max_y = argument_list_float[0]*Max_x**3+argument_list_float[1]*Max_x**2+argument_list_float[2]*Max_x+argument_list_float[3]\n",
    "\n",
    "print(Min_x,Min_y)\n",
    "print(Max_x,Max_y)\n",
    "x = np.arange(0.0, 10.0, 0.01)\n",
    "y = np.float_power(x,3)*argument_list_float[0] + np.float_power(x,2)*argument_list_float[1] + x*argument_list_float[2] + argument_list_float[3]"
   ]
  },
  {
   "cell_type": "code",
   "execution_count": 8,
   "metadata": {},
   "outputs": [
    {
     "data": {
      "text/plain": [
       "[<matplotlib.lines.Line2D at 0x7f9d704b6eb8>,\n",
       " <matplotlib.lines.Line2D at 0x7f9d70489da0>,\n",
       " <matplotlib.lines.Line2D at 0x7f9d704192b0>,\n",
       " <matplotlib.lines.Line2D at 0x7f9d704196a0>,\n",
       " <matplotlib.lines.Line2D at 0x7f9d70419ac8>,\n",
       " <matplotlib.lines.Line2D at 0x7f9d70419f60>]"
      ]
     },
     "execution_count": 8,
     "metadata": {},
     "output_type": "execute_result"
    },
    {
     "data": {
      "image/png": "[encoded data removed]",
      "text/plain": [
       "<matplotlib.figure.Figure at 0x7f9d704b6dd8>"
      ]
     },
     "metadata": {
      "needs_background": "light"
     },
     "output_type": "display_data"
    }
   ],
   "source": [
    "fig , ax = plt.subplots()\n",
    "ax.plot(x,y,'m',x_up,y_up,'rp',x_on,y_on,'gp',x_down,y_down,'bp',Min_x,Min_y,'ko',Max_x,Max_y,'ko')"
   ]
  },
  {
   "cell_type": "code",
   "execution_count": null,
   "metadata": {},
   "outputs": [],
   "source": []
  }
 ],
 "metadata": {
  "kernelspec": {
   "display_name": "Python 3.6.9 64-bit",
   "language": "python",
   "name": "python36964bit917b36ef9c3942649bd12bd52d166ec1"
  },
  "language_info": {
   "codemirror_mode": {
    "name": "ipython",
    "version": 3
   },
   "file_extension": ".py",
   "mimetype": "text/x-python",
   "name": "python",
   "nbconvert_exporter": "python",
   "pygments_lexer": "ipython3",
   "version": "3.6.9"
  }
 },
 "nbformat": 4,
 "nbformat_minor": 2
}
